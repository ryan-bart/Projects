{
 "cells": [
  {
   "cell_type": "code",
   "execution_count": 19,
   "metadata": {},
   "outputs": [],
   "source": [
    "import requests\n",
    "#a = requests.get('https://api.binance.com/api/v1/ticker/24hr').json()\n",
    "import pandas as pd\n",
    "import numpy as np"
   ]
  },
  {
   "cell_type": "code",
   "execution_count": 22,
   "metadata": {},
   "outputs": [],
   "source": [
    "class DataGrab:\n",
    "    \n",
    "    def getBinanceSpot(self):\n",
    "        \n",
    "        def splitPair(tickerString):\n",
    "            if tickerString[-4:] == \"USDT\":\n",
    "                return [tickerString.split('USDT')[0].lower(),'usdt']\n",
    "            elif tickerString[-3:] == 'ETH':\n",
    "                return [tickerString.split('ETH')[0].lower(), 'eth']\n",
    "            elif tickerString[-3:] == 'BTC':\n",
    "                return [tickerString.split('BTC')[0].lower(), 'btc']\n",
    "            elif tickerString[-3:] == 'BNB':\n",
    "                return [tickerString.split('BNB')[0].lower(), 'bnb']\n",
    "            return np.nan\n",
    "        \n",
    "        url = 'https://api.binance.com/api/v1/ticker/24hr'\n",
    "        bnn_df = pd.DataFrame(requests.get(url).json())\n",
    "        #print(bnn_df)\n",
    "        \n",
    "        bnn_df['symbol'] = bnn_df.apply(lambda x: splitPair(x['symbol']), axis=1)\n",
    "        bnn_df = bnn_df.dropna()\n",
    "        bnn_df['base'] = bnn_df.apply(lambda x: x['symbol'][0], axis = 1)\n",
    "        bnn_df['quote'] = bnn_df.apply(lambda x: x['symbol'][1], axis=1)\n",
    "        bnn_df['quote'] = bnn_df['quote'].str.replace('usdt','usd')\n",
    "        bnn_df = bnn_df.rename(index=str, columns={'askPrice':'ask',\n",
    "                                                    'bidPrice': 'bid',\n",
    "                                                    'lastPrice': 'price'})\n",
    "        columns = ['ask','bid','price','volume']\n",
    "        bnn_df['exchange'] = 'binance'\n",
    "        bnn_df[columns] = bnn_df[columns].astype(float)\n",
    "        bnn_df['spread'] = bnn_df.ask-bnn_df.bid\n",
    "        columns.extend(['base','quote','spread','exchange'])\n",
    "        \n",
    "        bnn_df['ticker'] = bnn_df.apply(lambda x: x['base']+ '-' + x['quote'],axis=1).tolist()\n",
    "        bnn_df = bnn_df[['base', 'quote', 'exchange','price','ask','bid','spread','volume','ticker']].set_index('ticker')\n",
    "        return bnn_df                "
   ]
  },
  {
   "cell_type": "code",
   "execution_count": 24,
   "metadata": {},
   "outputs": [
    {
     "name": "stdout",
     "output_type": "stream",
     "text": [
      "None\n"
     ]
    }
   ],
   "source": [
    "a = DataGrab().getBinanceSpot()\n",
    "print(a.to_csv('cryptoTicker.csv'))"
   ]
  },
  {
   "cell_type": "code",
   "execution_count": null,
   "metadata": {},
   "outputs": [],
   "source": []
  },
  {
   "cell_type": "code",
   "execution_count": null,
   "metadata": {},
   "outputs": [],
   "source": []
  }
 ],
 "metadata": {
  "kernelspec": {
   "display_name": "Python 3",
   "language": "python",
   "name": "python3"
  },
  "language_info": {
   "codemirror_mode": {
    "name": "ipython",
    "version": 3
   },
   "file_extension": ".py",
   "mimetype": "text/x-python",
   "name": "python",
   "nbconvert_exporter": "python",
   "pygments_lexer": "ipython3",
   "version": "3.7.0"
  }
 },
 "nbformat": 4,
 "nbformat_minor": 2
}
