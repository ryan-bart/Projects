{
 "cells": [
  {
   "cell_type": "code",
   "execution_count": 23,
   "metadata": {},
   "outputs": [],
   "source": [
    "import requests\n",
    "import pandas as pd\n",
    "import time\n",
    "from DarkSkyKey import DARK_SKY_KEY as str\n",
    "import webbrowser\n",
    "from IP_STACK_API import IP_STACK_KEY\n"
   ]
  },
  {
   "cell_type": "code",
   "execution_count": 17,
   "metadata": {},
   "outputs": [
    {
     "name": "stdout",
     "output_type": "stream",
     "text": [
      "Enter an IP address: 2601:241:8f00:ef7:29e5:8a5b:1523:3e8c\n"
     ]
    }
   ],
   "source": [
    "IPofInterest = input(\"Enter an IP address: \")"
   ]
  },
  {
   "cell_type": "code",
   "execution_count": 28,
   "metadata": {},
   "outputs": [],
   "source": [
    "url = \"http://api.ipstack.com/\"+IPofInterest+\"?access_key=\"+IP_STACK_KEY"
   ]
  },
  {
   "cell_type": "code",
   "execution_count": 29,
   "metadata": {},
   "outputs": [
    {
     "name": "stdout",
     "output_type": "stream",
     "text": [
      "{'ip': '2601:241:8f00:ef7:29e5:8a5b:1523:3e8c', 'type': 'ipv6', 'continent_code': 'NA', 'continent_name': 'North America', 'country_code': 'US', 'country_name': 'United States', 'region_code': 'IL', 'region_name': 'Illinois', 'city': 'Chicago', 'zip': '60622', 'latitude': 41.9025, 'longitude': -87.6726, 'location': {'geoname_id': 4887398, 'capital': 'Washington D.C.', 'languages': [{'code': 'en', 'name': 'English', 'native': 'English'}], 'country_flag': 'http://assets.ipstack.com/flags/us.svg', 'country_flag_emoji': '🇺🇸', 'country_flag_emoji_unicode': 'U+1F1FA U+1F1F8', 'calling_code': '1', 'is_eu': False}}\n"
     ]
    }
   ],
   "source": [
    "IP_info_dic = requests.get(url).json()\n",
    "print(IP_info_dic)"
   ]
  },
  {
   "cell_type": "code",
   "execution_count": 33,
   "metadata": {},
   "outputs": [
    {
     "name": "stdout",
     "output_type": "stream",
     "text": [
      "Tracking IP.........\n",
      "\n",
      "IP Address: 2601:241:8f00:ef7:29e5:8a5b:1523:3e8c\n",
      "Location: Chicago, Illinois, United States\n",
      "Zip Code: 60622\n",
      "Latitude: 41.903\n",
      "Longitude: -87.673\n"
     ]
    }
   ],
   "source": [
    "print(\"Tracking IP.........\")\n",
    "print(\"\")\n",
    "time.sleep(3)\n",
    "\n",
    "print(\"IP Address: \"+IP_info_dic['ip'])\n",
    "#print(\"Organization: \"+IP_info_dic['org'])\n",
    "print(\"Location: \"+IP_info_dic['city']+\", \"+IP_info_dic['region_name']+', '+IP_info_dic['country_name'])\n",
    "print(\"Zip Code: \"+IP_info_dic['zip'])\n",
    "print(\"Latitude: %4.3f\" %IP_info_dic['latitude'])\n",
    "print(\"Longitude: %4.3f\" %IP_info_dic['longitude'])\n"
   ]
  },
  {
   "cell_type": "code",
   "execution_count": 19,
   "metadata": {},
   "outputs": [],
   "source": [
    "weather = requests.get(\"https://api.darksky.net/forecast/\"+DARK_SKY_KEY+\"/%4.3f,%4.3f\" %(IP_info_dic['latitude'],IP_info_dic['longitude'])).json()"
   ]
  },
  {
   "cell_type": "code",
   "execution_count": 34,
   "metadata": {},
   "outputs": [
    {
     "data": {
      "text/plain": [
       "True"
      ]
     },
     "execution_count": 34,
     "metadata": {},
     "output_type": "execute_result"
    }
   ],
   "source": [
    "#grab latitude and longitude variables from IP_info_dic\n",
    "lat = IP_info_dic['latitude']\n",
    "lng = IP_info_dic['longitude']\n",
    "\n",
    "#create google maps url with latitude and longitude from url\n",
    "googleMapsURL = 'http://maps.google.com/maps?q=%4.3f,%4.3f'%(lat,lng)\n",
    "webbrowser.open_new(googleMapsURL)"
   ]
  }
 ],
 "metadata": {
  "kernelspec": {
   "display_name": "Python 3",
   "language": "python",
   "name": "python3"
  },
  "language_info": {
   "codemirror_mode": {
    "name": "ipython",
    "version": 3
   },
   "file_extension": ".py",
   "mimetype": "text/x-python",
   "name": "python",
   "nbconvert_exporter": "python",
   "pygments_lexer": "ipython3",
   "version": "3.7.0"
  }
 },
 "nbformat": 4,
 "nbformat_minor": 2
}
