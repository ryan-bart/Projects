{
 "cells": [
  {
   "cell_type": "code",
   "execution_count": 8,
   "metadata": {},
   "outputs": [],
   "source": [
    "import requests\n",
    "import pandas as pd\n",
    "import time\n",
    "from DarkSkyKey import DARK_SKY_KEY as str\n"
   ]
  },
  {
   "cell_type": "code",
   "execution_count": 10,
   "metadata": {},
   "outputs": [
    {
     "name": "stdout",
     "output_type": "stream",
     "text": [
      "Enter an IP address: 73.8.143.114\n"
     ]
    }
   ],
   "source": [
    "IPofInterest = input(\"Enter an IP address: \")"
   ]
  },
  {
   "cell_type": "code",
   "execution_count": 11,
   "metadata": {},
   "outputs": [],
   "source": [
    "url = \"https://ipapi.co/\"+IPofInterest+\"/json/\""
   ]
  },
  {
   "cell_type": "code",
   "execution_count": 12,
   "metadata": {},
   "outputs": [
    {
     "name": "stdout",
     "output_type": "stream",
     "text": [
      "{'ip': '73.8.143.114', 'city': 'Chicago', 'region': 'Illinois', 'region_code': 'IL', 'country': 'US', 'country_name': 'United States', 'continent_code': 'NA', 'in_eu': False, 'postal': '60622', 'latitude': 41.9025, 'longitude': -87.6726, 'timezone': 'America/Chicago', 'utc_offset': '-0500', 'country_calling_code': '+1', 'currency': 'USD', 'languages': 'en-US,es-US,haw,fr', 'asn': 'AS7922', 'org': 'Comcast Cable Communications, LLC'}\n"
     ]
    }
   ],
   "source": [
    "IP_info_dic = requests.get(url).json()\n",
    "print(IP_info_dic)"
   ]
  },
  {
   "cell_type": "code",
   "execution_count": 13,
   "metadata": {},
   "outputs": [
    {
     "name": "stdout",
     "output_type": "stream",
     "text": [
      "Tracking IP.........\n",
      "\n",
      "IP Address: 73.8.143.114\n",
      "Organization: Comcast Cable Communications, LLC\n",
      "Location: Chicago, Illinois, US\n",
      "Zip Code: 60622\n",
      "Latitude: 41.903\n",
      "Longitude: -87.673\n"
     ]
    }
   ],
   "source": [
    "print(\"Tracking IP.........\")\n",
    "print(\"\")\n",
    "time.sleep(3)\n",
    "\n",
    "try:\n",
    "    print(\"IP Address: \"+IP_info_dic['ip'])\n",
    "    print(\"Organization: \"+IP_info_dic['org'])\n",
    "    print(\"Location: \"+IP_info_dic['city']+\", \"+IP_info_dic['region']+', '+IP_info_dic['country'])\n",
    "    print(\"Zip Code: \"+IP_info_dic['postal'])\n",
    "    print(\"Latitude: %4.3f\" %IP_info_dic['latitude'])\n",
    "    print(\"Longitude: %4.3f\" %IP_info_dic['longitude'])\n",
    "\n",
    "except: True"
   ]
  },
  {
   "cell_type": "code",
   "execution_count": 19,
   "metadata": {},
   "outputs": [],
   "source": [
    "weather = requests.get(\"https://api.darksky.net/forecast/\"+DARK_SKY_KEY+\"/%4.3f,%4.3f\" %(IP_info_dic['latitude'],IP_info_dic['longitude'])).json()"
   ]
  },
  {
   "cell_type": "code",
   "execution_count": 21,
   "metadata": {},
   "outputs": [],
   "source": [
    "#print(weather)"
   ]
  }
 ],
 "metadata": {
  "kernelspec": {
   "display_name": "Python 3",
   "language": "python",
   "name": "python3"
  },
  "language_info": {
   "codemirror_mode": {
    "name": "ipython",
    "version": 3
   },
   "file_extension": ".py",
   "mimetype": "text/x-python",
   "name": "python",
   "nbconvert_exporter": "python",
   "pygments_lexer": "ipython3",
   "version": "3.7.0"
  }
 },
 "nbformat": 4,
 "nbformat_minor": 2
}
